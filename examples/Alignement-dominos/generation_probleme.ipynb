{
 "cells": [
  {
   "cell_type": "markdown",
   "metadata": {},
   "source": [
    "## Install and import"
   ]
  },
  {
   "cell_type": "code",
   "execution_count": 1,
   "metadata": {},
   "outputs": [],
   "source": [
    "import random"
   ]
  },
  {
   "cell_type": "markdown",
   "metadata": {},
   "source": [
    "## Choix du nombre de chiffres possibles et de dominos"
   ]
  },
  {
   "cell_type": "code",
   "execution_count": 43,
   "metadata": {},
   "outputs": [],
   "source": [
    "n_dominos = 1000\n",
    "n_digits = 7  # Ici, de 0 à 6"
   ]
  },
  {
   "cell_type": "markdown",
   "metadata": {},
   "source": [
    "## Moulinette"
   ]
  },
  {
   "cell_type": "code",
   "execution_count": 44,
   "metadata": {},
   "outputs": [],
   "source": [
    "chiffres = [random.randint(0, n_digits - 1) for _ in range(n_dominos + 1)]\n",
    "\n",
    "valeurs_dominos = [(chiffres[i], chiffres[i + 1]) for i in range(n_dominos)]\n",
    "\n",
    "for i, paire in enumerate(valeurs_dominos):\n",
    "    random_float = random.random()\n",
    "    if random_float < 0.5:\n",
    "        valeurs_dominos[i] = (paire[1], paire[0])\n",
    "\n",
    "random.shuffle(valeurs_dominos)"
   ]
  },
  {
   "cell_type": "code",
   "execution_count": 45,
   "metadata": {},
   "outputs": [],
   "source": [
    "objects_problem_txt = \"  (:objects\\n  \"\n",
    "for digit in range(n_digits):\n",
    "    objects_problem_txt += f\"c{digit} \"\n",
    "objects_problem_txt += \"- number\\n  \"\n",
    "for i in range(n_dominos):\n",
    "    objects_problem_txt += f\"d{i} \"\n",
    "objects_problem_txt += \"- domino\\n  )\\n\"\n",
    "\n",
    "init_problem_txt = str(\"  (:init\\n    (TableVide)\\n\")\n",
    "for i, paire in enumerate(valeurs_dominos):\n",
    "    init_problem_txt += f\"    (EnMain d{i})\\n\"\n",
    "    init_problem_txt += f\"    (ChiffreGauche c{paire[0]} d{i})\\n\"\n",
    "    init_problem_txt += f\"    (ChiffreDroit c{paire[1]} d{i})\\n\"\n",
    "init_problem_txt += \"  )\\n\"\n",
    "\n",
    "goal_problem_txt = \"  (:goal\\n    (and\\n\"\n",
    "for i in range(n_dominos):\n",
    "    goal_problem_txt += f\"      (not (EnMain d{i}))\\n\"\n",
    "goal_problem_txt += \"    )\\n  )\\n\""
   ]
  },
  {
   "cell_type": "code",
   "execution_count": 46,
   "metadata": {},
   "outputs": [],
   "source": [
    "whole_problem_txt = \"(define\\n\"\n",
    "whole_problem_txt += f\"  (problem alignement-{n_dominos}dominos-{n_digits}chiffres)\\n\"\n",
    "whole_problem_txt += \"  (:domain alignement-dominos)\\n\"\n",
    "whole_problem_txt += \"  (:requirements :strips :typing)\\n\"\n",
    "whole_problem_txt += objects_problem_txt\n",
    "whole_problem_txt += init_problem_txt\n",
    "whole_problem_txt += goal_problem_txt\n",
    "whole_problem_txt += \")\""
   ]
  },
  {
   "cell_type": "code",
   "execution_count": 47,
   "metadata": {},
   "outputs": [],
   "source": [
    "file_name = f\"problem_alignement-{n_dominos}dominos-{n_digits}chiffres.pddl\"\n",
    "with open(file_name, \"w\") as file:\n",
    "    file.write(whole_problem_txt)"
   ]
  }
 ],
 "metadata": {
  "kernelspec": {
   "display_name": "myenv",
   "language": "python",
   "name": "python3"
  },
  "language_info": {
   "codemirror_mode": {
    "name": "ipython",
    "version": 3
   },
   "file_extension": ".py",
   "mimetype": "text/x-python",
   "name": "python",
   "nbconvert_exporter": "python",
   "pygments_lexer": "ipython3",
   "version": "3.10.13"
  }
 },
 "nbformat": 4,
 "nbformat_minor": 2
}
